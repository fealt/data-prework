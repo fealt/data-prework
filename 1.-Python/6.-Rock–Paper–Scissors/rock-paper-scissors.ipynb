{
 "cells": [
  {
   "cell_type": "markdown",
   "metadata": {},
   "source": [
    "<img src=\"https://bit.ly/2VnXWr2\" width=\"100\" align=\"left\">"
   ]
  },
  {
   "cell_type": "markdown",
   "metadata": {},
   "source": [
    "# Rock, Paper & Scissors\n",
    "\n",
    "Let's play the famous game against our computer. You can check the rules [here](https://en.wikipedia.org/wiki/Rock%E2%80%93paper%E2%80%93scissors). \n",
    "\n",
    "## Task\n",
    "Create a program that imitates the playability of the well known game of rock, paper, scissors. Follow the guidelines provided.\n",
    "\n",
    "## Tools\n",
    "1. Loop: **for/while**\n",
    "2. Functions: **input(), print()...**\n",
    "3. Conditional statements: **if, elif, else**\n",
    "4. Definition of functions. Modular programming\n",
    "5. Import modules\n",
    "\n",
    "**To solve this challenge, the use of functions is recommended.**\n",
    "\n",
    "#### 1. Import the choice function of the random module."
   ]
  },
  {
   "cell_type": "code",
   "execution_count": 1,
   "metadata": {},
   "outputs": [],
   "source": [
    "import random\n"
   ]
  },
  {
   "cell_type": "markdown",
   "metadata": {},
   "source": [
    "#### 2. Create a list that includes the 3 possible gesture options of the game: 'rock', 'paper' or 'scissors'. Store the list in a variable called `gestures`."
   ]
  },
  {
   "cell_type": "code",
   "execution_count": 2,
   "metadata": {},
   "outputs": [],
   "source": [
    "gestures = ['rock', 'paper', 'scissors']\n"
   ]
  },
  {
   "cell_type": "markdown",
   "metadata": {},
   "source": [
    "#### 3. Create a variable called `n_rounds` to store the maximum number of rounds to play in a game. \n",
    "Remember that the number of rounds must be odd: 1, 3, 5, ..."
   ]
  },
  {
   "cell_type": "code",
   "execution_count": 3,
   "metadata": {},
   "outputs": [],
   "source": [
    "n_rounds = 3\n"
   ]
  },
  {
   "cell_type": "markdown",
   "metadata": {},
   "source": [
    "#### 4. Create a variable called `rounds_to_win` to store the number of rounds that a player must win to win the game.\n",
    "**Hint**: the value stored in `rounds_to_win` depends on the value of `n_rounds`. "
   ]
  },
  {
   "cell_type": "code",
   "execution_count": 4,
   "metadata": {},
   "outputs": [],
   "source": [
    "rounds_to_win = n_rounds - 1\n"
   ]
  },
  {
   "cell_type": "markdown",
   "metadata": {},
   "source": [
    "#### 5. Create two variables to store the number of rounds that the computer and the player have won. Call these variables `cpu_score` and `player_score`."
   ]
  },
  {
   "cell_type": "code",
   "execution_count": 5,
   "metadata": {},
   "outputs": [],
   "source": [
    "cpu_score = 0\n",
    "player_score = 0\n"
   ]
  },
  {
   "cell_type": "markdown",
   "metadata": {},
   "source": [
    "#### 6. Define a function that randomly returns one of the 3 gesture options.\n",
    "You will use this function to simulate the gesture choice of the computer. "
   ]
  },
  {
   "cell_type": "code",
   "execution_count": 6,
   "metadata": {},
   "outputs": [],
   "source": [
    "def cpu_gesture() :\n",
    "    \n",
    "    \"\"\"\n",
    "    Computer choice: randomly returns a gesture for the computer.\n",
    "    \"\"\"\n",
    "    \n",
    "    cpu_choice = random.randint(1,3)\n",
    "    \n",
    "    if cpu_choice == 1 :\n",
    "        cpu_choice = 'rock'\n",
    "    elif cpu_choice == 2 :\n",
    "        cpu_choice = 'paper'\n",
    "    else :\n",
    "        cpu_choice = 'scissors'\n",
    "    \n",
    "    return cpu_choice\n"
   ]
  },
  {
   "cell_type": "markdown",
   "metadata": {},
   "source": [
    "#### 7. Define a function that asks the player which is the gesture he or she wants to show: 'rock', 'paper' or 'scissors'.\n",
    "The player should only be allowed to choose one of the 3 gesture options. If the player's choice is not rock, paper or scissors, keep asking until it is."
   ]
  },
  {
   "cell_type": "code",
   "execution_count": 7,
   "metadata": {},
   "outputs": [],
   "source": [
    "def player_gesture() :\n",
    "    \n",
    "    \"\"\"\n",
    "    Player choice: asks player to choose a gesture.\n",
    "    \"\"\"\n",
    "    \n",
    "    player_choice = input(\"Type a choice among rock, paper or scissors: \").lower()\n",
    "    print(\"\")\n",
    "    \n",
    "    while player_choice not in gestures :\n",
    "        player_choice = input(\"Please enter a choice among rock, paper or scissors only: \").lower()\n",
    "        \n",
    "    return player_choice\n"
   ]
  },
  {
   "cell_type": "markdown",
   "metadata": {},
   "source": [
    "#### 8. Define a function that checks who won a round. \n",
    "The function should return 0 if there is a tie, 1 if the computer wins and 2 if the player wins."
   ]
  },
  {
   "cell_type": "code",
   "execution_count": 8,
   "metadata": {},
   "outputs": [],
   "source": [
    "def round_check() :\n",
    "    \n",
    "    \"\"\"\n",
    "    Checks who won a round (0 = tie, 1 = computer, 2 = player).\n",
    "    Rock smashes scissors, paper covers rock and scissors cuts paper.\n",
    "    \"\"\"\n",
    "    \n",
    "    while True :\n",
    "        cpu_choice = cpu_gesture()\n",
    "        player_choice = player_gesture()\n",
    "        \n",
    "        print(\"Computer choice: %s.\" %cpu_choice)\n",
    "        print(\"Player choice: %s.\" %player_choice)\n",
    "        \n",
    "        if player_choice == 'rock' :\n",
    "            if cpu_choice == 'rock' :\n",
    "                return 0\n",
    "\n",
    "            elif cpu_choice == 'paper' :\n",
    "                return 1\n",
    "\n",
    "            elif cpu_choice == 'scissors' :\n",
    "                return 2\n",
    "\n",
    "        elif player_choice == 'paper' :\n",
    "            if cpu_choice == 'rock' :\n",
    "                return 2\n",
    "\n",
    "            elif cpu_choice == 'paper' :\n",
    "                return 0\n",
    "\n",
    "            elif cpu_choice == 'scissors' :\n",
    "                return 1\n",
    "\n",
    "        elif player_choice == 'scissors' :\n",
    "            if cpu_choice == 'rock' :\n",
    "                return 1\n",
    "\n",
    "            elif cpu_choice == 'paper' :\n",
    "                return 2\n",
    "\n",
    "            elif cpu_choice == 'scissors' :\n",
    "                return 0\n"
   ]
  },
  {
   "cell_type": "markdown",
   "metadata": {},
   "source": [
    "#### 9. Define a function that prints the choice of the computer, the choice of the player and a message that announces who won the current round. \n",
    "You should also use this function to update the variables that count the number of rounds that the computer and the player have won. The score of the winner increases by one point. If there is a tie, the score does not increase."
   ]
  },
  {
   "cell_type": "code",
   "execution_count": 9,
   "metadata": {},
   "outputs": [],
   "source": [
    "def game_round(winner_new) :\n",
    "    \n",
    "    \"\"\"\n",
    "    Prints cpu and player choice; announces who won the current round.\n",
    "    \"\"\"\n",
    "    \n",
    "    print(\"\")\n",
    "    round_winner = winner_new\n",
    "    print(\"\")\n",
    "\n",
    "    if round_winner == 0 :\n",
    "        return print(f\"\\033[1;41m It's a tie! No one won... :/ \")\n",
    "        \n",
    "    elif round_winner == 1 :\n",
    "        return print(f\"\\033[0;46m Current round winner is:  ** COMPUTER ** !!! \")\n",
    "        \n",
    "    else :\n",
    "        return print(f\"\\033[0;43m Current round winner is:  ** PLAYER ** !!! \")\n"
   ]
  },
  {
   "cell_type": "markdown",
   "metadata": {},
   "source": [
    "#### 10. Now it's time to code the execution of the game using the functions and variables you defined above. \n",
    "\n",
    "First, create a loop structure that repeats while no player reaches the minimum score necessary to win and the number of rounds is less than the maximum number of rounds to play in a game.  \n",
    "\n",
    "Inside the loop, use the functions and variables above to create the execution of a round: ask for the player's choice, generate the random choice of the computer, show the round results, update the scores, etc. "
   ]
  },
  {
   "cell_type": "code",
   "execution_count": 10,
   "metadata": {
    "tags": []
   },
   "outputs": [
    {
     "name": "stdin",
     "output_type": "stream",
     "text": [
      "Type a choice among rock, paper or scissors:  paper\n"
     ]
    },
    {
     "name": "stdout",
     "output_type": "stream",
     "text": [
      "\n",
      "Computer choice: paper.\n",
      "Player choice: paper.\n",
      "\n",
      "\n",
      "\u001b[1;41m It's a tie! No one won... :/ \n"
     ]
    },
    {
     "name": "stdin",
     "output_type": "stream",
     "text": [
      "Type a choice among rock, paper or scissors:  paper\n"
     ]
    },
    {
     "name": "stdout",
     "output_type": "stream",
     "text": [
      "\n",
      "Computer choice: paper.\n",
      "Player choice: paper.\n",
      "\n",
      "\n",
      "\u001b[1;41m It's a tie! No one won... :/ \n"
     ]
    },
    {
     "name": "stdin",
     "output_type": "stream",
     "text": [
      "Type a choice among rock, paper or scissors:  paper\n"
     ]
    },
    {
     "name": "stdout",
     "output_type": "stream",
     "text": [
      "\n",
      "Computer choice: rock.\n",
      "Player choice: paper.\n",
      "\n",
      "\n",
      "\u001b[0;43m Current round winner is:  ** PLAYER ** !!! \n"
     ]
    },
    {
     "name": "stdin",
     "output_type": "stream",
     "text": [
      "Type a choice among rock, paper or scissors:  rock\n"
     ]
    },
    {
     "name": "stdout",
     "output_type": "stream",
     "text": [
      "\n",
      "Computer choice: scissors.\n",
      "Player choice: rock.\n",
      "\n",
      "\n",
      "\u001b[0;43m Current round winner is:  ** PLAYER ** !!! \n"
     ]
    }
   ],
   "source": [
    "round_count = 0\n",
    "\n",
    "while round_count < n_rounds :\n",
    "    round_check_count = round_check()\n",
    "    game_round(round_check_count)\n",
    "    \n",
    "    if round_check_count == 1 :\n",
    "        cpu_score += 1\n",
    "    elif round_check_count == 2 :\n",
    "        player_score += 1\n",
    "    else :\n",
    "        continue\n",
    "    \n",
    "    if cpu_score == rounds_to_win or player_score == rounds_to_win :\n",
    "        break\n",
    "    round_count += 1\n"
   ]
  },
  {
   "cell_type": "markdown",
   "metadata": {},
   "source": [
    "#### 11. Print the winner of the game based on who won more rounds.\n",
    "Remember that the game might be tied. "
   ]
  },
  {
   "cell_type": "code",
   "execution_count": 11,
   "metadata": {},
   "outputs": [
    {
     "name": "stdout",
     "output_type": "stream",
     "text": [
      "\u001b[1;32m GAME WINNER IS:  \\/\\/  P L A Y E R  \\/\\/ \n"
     ]
    }
   ],
   "source": [
    "if cpu_score == 2 :\n",
    "    print(f\"\\033[1;35m GAME WINNER IS:  \\/\\/  C O M P U T E R  \\/\\/ \")\n",
    "elif player_score == 2 :\n",
    "    print(f\"\\033[1;32m GAME WINNER IS:  \\/\\/  P L A Y E R  \\/\\/ \")"
   ]
  },
  {
   "cell_type": "markdown",
   "metadata": {},
   "source": [
    "# Bonus: Rock, Paper, Scissors, Lizard & Spock\n",
    "![](images/rpsls.jpg)\n",
    "\n",
    "In this challenge, you need to improve the previous game by adding two new options. To know more about the rules of the improved version of rock, paper, scissors, check this [link](http://www.samkass.com/theories/RPSSL.html). \n",
    "\n",
    "In addition, you will also need to improve how the game interacts with the player: the number of rounds to play, which must be an odd number, will be requested to the user until a valid number is entered. Define a new function to make that request.\n",
    "\n",
    "**Hint**: Try to reuse the code that you already coded in the previous challenge. If your code is efficient, this bonus will only consist of simple modifications to the original game."
   ]
  },
  {
   "cell_type": "code",
   "execution_count": null,
   "metadata": {},
   "outputs": [],
   "source": []
  }
 ],
 "metadata": {
  "kernelspec": {
   "display_name": "Python 3",
   "language": "python",
   "name": "python3"
  },
  "language_info": {
   "codemirror_mode": {
    "name": "ipython",
    "version": 3
   },
   "file_extension": ".py",
   "mimetype": "text/x-python",
   "name": "python",
   "nbconvert_exporter": "python",
   "pygments_lexer": "ipython3",
   "version": "3.9.5"
  }
 },
 "nbformat": 4,
 "nbformat_minor": 4
}
