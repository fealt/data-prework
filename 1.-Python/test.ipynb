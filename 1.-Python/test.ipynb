
gandalf = [10, 11, 13, 30, 22, 11, 10, 33, 22, 22]
saruman = [23, 66, 12, 43, 12, 10, 44, 23, 12, 17]
spells = 10

gandalf_wins = 0
saruman_wins = 0
ties = 0

for spells in zip(saruman, gandalf):
    gandalf_spell = spells[0]
    saruman_spell = spells[1]
    if gandalf_spell > saruman_spell:
        gandalf_wins += 1
    elif saruman_spell > gandalf_spell:
        saruman_wins += 1
    else :
        ties += 1

print("Total gandalf wins:", gandalf_wins)
print("Total saruman wins:", saruman_wins)
print("Ties total:", ties)